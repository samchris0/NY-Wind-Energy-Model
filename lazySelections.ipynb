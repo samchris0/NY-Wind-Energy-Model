{
 "cells": [
  {
   "cell_type": "code",
   "execution_count": null,
   "id": "1bc0c4fc",
   "metadata": {},
   "outputs": [],
   "source": [
    "import random\n",
    "\n",
    "def random_selection(sensor_ids,k):\n",
    "    \"\"\"\n",
    "    Randomly select k sensor ids from the list of sensor ids.\n",
    "    Parameters:\n",
    "        sensor_ids (list): List of sensor ids to select from.\n",
    "        k (int): Number of sensor ids to select.\n",
    "    Returns:\n",
    "        list: List of randomly selected sensor ids.\n",
    "    \"\"\"\n",
    "    \n",
    "    if k > len(sensor_ids):\n",
    "        raise ValueError(\"k cannot be greater than the number of sensor ids\")\n",
    "    return random.sample(sensor_ids, k)"
   ]
  }
 ],
 "metadata": {
  "language_info": {
   "name": "python"
  }
 },
 "nbformat": 4,
 "nbformat_minor": 5
}
