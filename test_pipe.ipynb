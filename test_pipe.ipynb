{
 "cells": [
  {
   "cell_type": "code",
   "execution_count": 1,
   "metadata": {},
   "outputs": [],
   "source": [
    "from PrepareSensorData import get_mag_df, get_coordinate_dicts\n",
    "from OptimizedSelection import get_optimized_sensors\n",
    "from LazySelections import random_selection, greedy_geographic_selection, greedy_variance_selection"
   ]
  },
  {
   "cell_type": "markdown",
   "metadata": {},
   "source": [
    "## Load filtered data, compute 3 lazy sensor selections and optimized sensor selection  "
   ]
  },
  {
   "cell_type": "code",
   "execution_count": 3,
   "metadata": {},
   "outputs": [
    {
     "name": "stdout",
     "output_type": "stream",
     "text": [
      "Looking for file at data/filtered_historicalForecasts/5km_historicalForecast2024.csv... FOUND!\n",
      "\n",
      "Submodular Greedy Selection:\n",
      "Sensor 10077 coordinates: (43.131934562, -74.9285066354)\n",
      "Sensor 3149 coordinates: (42.132934562, -77.7665066354)\n",
      "Sensor 4500 coordinates: (42.321934562, -77.5025066354)\n",
      "Sensor 4797 coordinates: (42.348934562, -74.0705066354)\n",
      "Sensor 17339 coordinates: (44.913934562, -74.1365066354)\n",
      "Sensor 3025 coordinates: (42.105934562, -75.5885066354)\n",
      "Sensor 9000 coordinates: (42.969934562, -75.4895066354)\n",
      "Sensor 4497 coordinates: (42.321934562, -77.6015066354)\n",
      "Sensor 3151 coordinates: (42.132934562, -77.7005066354)\n",
      "Sensor 7532 coordinates: (42.753934562, -78.1625066354)\n"
     ]
    }
   ],
   "source": [
    "x_km_from_turbines = 5\n",
    "k = 10\n",
    "df_mag = get_mag_df(x_km_from_turbines) #this function will fetch the filtered data if it exists otherwise it will create and locally save the filtered data for next time \n",
    "lat_dict, lon_dict = get_coordinate_dicts(df_mag)\n",
    "\n",
    "lazy_random_selection = random_selection(list(df_mag.columns), k=k)\n",
    "lazy_geographic_selection = greedy_geographic_selection(list(df_mag.columns.astype(int)), lat_dict, lon_dict, k=k)\n",
    "lazy_variance_selection = greedy_variance_selection(df_mag, k=k)\n",
    "\n",
    "optimal_selection = get_optimized_sensors(df_mag,k=k)\n",
    "print('Submodular Greedy Selection:')\n",
    "for index in optimal_selection:\n",
    "    print(f\"Sensor {index} coordinates: ({lat_dict[index]}, {lon_dict[index]})\")\n"
   ]
  },
  {
   "cell_type": "markdown",
   "metadata": {},
   "source": [
    "# Next steps"
   ]
  },
  {
   "cell_type": "code",
   "execution_count": null,
   "metadata": {},
   "outputs": [],
   "source": [
    "from makeModel import df_to_X_y, buildModel, trainModel\n",
    "\n",
    "\n",
    "energy = pd.read_csv('/Users/schristianson/Desktop/NY Wind Energy Model/historical_energy_24(test).csv')\n",
    "\n",
    "def dateparser(date_str):\n",
    "    # Adjust the timezone offset format to ISO 8601 (from -05 to -05:00)\n",
    "    date_str = str(date_str).strip()\n",
    "    date_str = date_str + \":00\"  # Insert the colon in the timezone offset\n",
    "    date = pd.to_datetime(date_str, format=\"%Y-%m-%dT%H%z\").tz_convert(\"America/New_York\")\n",
    "    return date\n",
    "\n",
    "energy['period'] =  energy[\"period\"].astype(str).str.strip().apply(dateparser)\n",
    "\n",
    "start_ny = pd.Timestamp('2024-01-01', tz='America/New_York')\n",
    "end_ny = pd.Timestamp('2024-12-31', tz='America/New_York')\n",
    "energy = energy[(energy['period'] >= start_ny) & (energy['period'] < end_ny)]\n",
    "energy = energy.set_index('period')"
   ]
  },
  {
   "cell_type": "code",
   "execution_count": null,
   "metadata": {},
   "outputs": [],
   "source": [
    "print(K)"
   ]
  },
  {
   "cell_type": "code",
   "execution_count": null,
   "metadata": {},
   "outputs": [],
   "source": [
    "lat_dict, lon_dict, coords = getCoordinateGrid(df_mag_sqrt)\n",
    "best_indices, best_coords = greedy_select(lat_dict, lon_dict, coords, K)"
   ]
  },
  {
   "cell_type": "code",
   "execution_count": null,
   "metadata": {},
   "outputs": [],
   "source": [
    "best_coords_str = [str(i).strip('()') for i in best_coords]\n",
    "\n",
    "#Select optimized sensor locations\n",
    "X = df_mag_sqrt.loc[:, df_mag_sqrt.columns.str.contains('|'.join(best_coords_str))]\n",
    "\n",
    "#get target variables\n",
    "y = energy['Megawatthours']"
   ]
  },
  {
   "cell_type": "code",
   "execution_count": null,
   "metadata": {},
   "outputs": [],
   "source": [
    "#We are getting less than 8760 data points in the X data, looks like there were some points missing in the download,\n",
    "#I checked the data cleaning steps to make sure we were not losing any there. Only missing ~250 hours so should be fine\n",
    "#Added a function to the dataframe creation to make rows for missing hours and use NaN in columns\n",
    "\"\"\"\n",
    "Testing to make sure dates lined up and if there was anything missing\n",
    "\n",
    "X_dates = set(X.index.astype(str).to_list())\n",
    "y_dates = y.index.astype(str).to_list()\n",
    "\n",
    "y_dates = set([i[:-6] for i in y_dates])\n",
    "\n",
    "missing_x_dates = y_dates - X_dates\n",
    "missing_x_dates = [str(x)+\"-05:00\" for x in missing_x_dates]\n",
    "\"\"\""
   ]
  },
  {
   "cell_type": "code",
   "execution_count": null,
   "metadata": {},
   "outputs": [],
   "source": [
    "X,y = df_to_X_y(X, y, window_size=24)\n"
   ]
  }
 ],
 "metadata": {
  "kernelspec": {
   "display_name": "Python 3",
   "language": "python",
   "name": "python3"
  },
  "language_info": {
   "codemirror_mode": {
    "name": "ipython",
    "version": 3
   },
   "file_extension": ".py",
   "mimetype": "text/x-python",
   "name": "python",
   "nbconvert_exporter": "python",
   "pygments_lexer": "ipython3",
   "version": "3.13.1"
  }
 },
 "nbformat": 4,
 "nbformat_minor": 2
}
