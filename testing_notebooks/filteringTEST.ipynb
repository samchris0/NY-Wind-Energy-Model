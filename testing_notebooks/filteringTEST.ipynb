{
 "cells": [
  {
   "cell_type": "code",
   "execution_count": null,
   "id": "dbffb1ac",
   "metadata": {},
   "outputs": [],
   "source": [
    "#This file goes through historical data and removes all data that is not within X km of a wind turbine\n",
    "\n",
    "import pandas as pd\n",
    "import numpy as np\n",
    "from scipy.spatial import cKDTree\n",
    "import os\n",
    "import ast"
   ]
  },
  {
   "cell_type": "code",
   "execution_count": 2,
   "id": "64e5c197",
   "metadata": {},
   "outputs": [],
   "source": [
    "def filter_nearby_sensors(reference_coords, sensor_dict, max_distance_km):\n",
    "    \"\"\"\n",
    "    Returns sensor_ids whose coordinates are farther than max_distance_km from all reference points.\n",
    "    \n",
    "    Parameters:\n",
    "        reference_coords (list of tuples): List of (lat, lon) reference coordinates.\n",
    "        sensor_dict (dict): Dictionary {sensor_id: (lat, lon)} for target sensors.\n",
    "        max_distance_km (float): Maximum allowed distance in kilometers.\n",
    "    \n",
    "    Returns:\n",
    "        list of sensor_ids: IDs of sensors outside the distance threshold.\n",
    "    \"\"\"\n",
    "    # Convert lat/lon to radians\n",
    "    ref_radians = np.radians(reference_coords)\n",
    "    sensor_ids = list(sensor_dict.keys())\n",
    "    sensor_coords = list(sensor_dict.values())\n",
    "    tgt_radians = np.radians(sensor_coords)\n",
    "\n",
    "    # Build KDTree\n",
    "    tree = cKDTree(ref_radians)\n",
    "    EARTH_RADIUS_KM = 6371.0\n",
    "\n",
    "    # Query distances\n",
    "    distances, _ = tree.query(tgt_radians, distance_upper_bound=max_distance_km / EARTH_RADIUS_KM)\n",
    "\n",
    "    # Return sensor IDs whose distance is inf (i.e., no close reference point)\n",
    "    filtered_ids = [sensor_id for sensor_id, d in zip(sensor_ids, distances) if d == np.inf]\n",
    "\n",
    "    return filtered_ids"
   ]
  },
  {
   "cell_type": "code",
   "execution_count": 16,
   "id": "347c8266",
   "metadata": {},
   "outputs": [
    {
     "name": "stdout",
     "output_type": "stream",
     "text": [
      "Filtered Coordinates Found\n",
      "Loading:  data/unfiltered_historicalForecast2024.csv\n",
      "Successfully Dropped 33746 Columns \n",
      "Saved filtered CSV to: data/filtered_historicalForecasts/5km_historicalForecast2024.csv\n"
     ]
    }
   ],
   "source": [
    "def produce_filtered_dataset(unfiltered_data_path,output_folder, max_distance_km):\n",
    "    df = pd.read_csv(\"data/uswtdb_v7_2_20241120.csv\")\n",
    "        \n",
    "    df_ny = df[df[\"t_state\"] == \"NY\"] # Filter for New York State (NY)\n",
    "        \n",
    "    # Select only coordinates\n",
    "    ny_turbine_coords = list(zip(df_ny[\"ylat\"], df_ny[\"xlong\"]))\n",
    "    \n",
    "    df_sensor_coords = pd.read_csv('data/coordinate_columns.csv')\n",
    "    df_sensor_coords = df_sensor_coords.drop_duplicates(subset='sensor_id')\n",
    " \n",
    "    sensor_dict = dict(zip(df_sensor_coords['sensor_id'], zip(df_sensor_coords['latitude'], df_sensor_coords['longitude'])))    \n",
    "        \n",
    "    distant_sensor_ids = filter_nearby_sensors(ny_turbine_coords, sensor_dict, max_distance_km)\n",
    "    \n",
    "    print('Filtered Sensors Found')    \n",
    "\n",
    "    columns_to_drop = [f\"{prefix}_{id}\" for id in distant_sensor_ids for prefix in (\"u80\", \"v80\")]\n",
    "    \n",
    "                \n",
    "    print('Loading: ', unfiltered_data_path)\n",
    "    df_unfiltered = pd.read_csv(unfiltered_data_path)\n",
    "    \n",
    "    \n",
    "    no_matches = [col for col in columns_to_drop if col not in df_unfiltered.columns]\n",
    "    if no_matches:\n",
    "        print('Error: Attempting to drop sensors that do not appear in the unfiltered dataframe')\n",
    "    \n",
    "    df_unfiltered = df_unfiltered.drop(columns=[col for col in columns_to_drop if col in df_unfiltered.columns])\n",
    "    print(f'Successfully Dropped {len(columns_to_drop)} Columns ')\n",
    "    \n",
    "    output_path = output_folder + f'/{max_distance_km}km_historicalForecast2024.csv'\n",
    "    \n",
    "    df_unfiltered.to_csv(output_path, index=False)\n",
    "\n",
    "    print(f\"Saved filtered CSV to: {output_path}\")\n",
    "\n",
    "max_distance_km = 5\n",
    "produce_filtered_dataset('data/unfiltered_historicalForecast2024.csv','data/filtered_historicalForecasts',max_distance_km)\n"
   ]
  }
 ],
 "metadata": {
  "kernelspec": {
   "display_name": "Python 3",
   "language": "python",
   "name": "python3"
  },
  "language_info": {
   "codemirror_mode": {
    "name": "ipython",
    "version": 3
   },
   "file_extension": ".py",
   "mimetype": "text/x-python",
   "name": "python",
   "nbconvert_exporter": "python",
   "pygments_lexer": "ipython3",
   "version": "3.13.1"
  }
 },
 "nbformat": 4,
 "nbformat_minor": 5
}
