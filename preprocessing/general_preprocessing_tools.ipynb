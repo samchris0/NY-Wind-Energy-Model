{
 "cells": [
  {
   "cell_type": "markdown",
   "id": "69739f9a",
   "metadata": {},
   "source": [
    "# Processing Tools\n",
    "\n",
    "Hopefully we don't need to run any of these again but I wrote them as tools to help clean up the data "
   ]
  },
  {
   "cell_type": "markdown",
   "id": "a852ac6e",
   "metadata": {},
   "source": [
    "## Merge CSV data"
   ]
  },
  {
   "cell_type": "code",
   "execution_count": null,
   "id": "64d79c0c",
   "metadata": {},
   "outputs": [],
   "source": [
    "import pandas as pd\n",
    "import os\n",
    "\n",
    "# Folder containing the historical forecast CSVs\n",
    "target_folder = 'historicalForecasts2024'\n",
    "\n",
    "# Output path for combined file\n",
    "output_csv_path = 'unfiltered_historicalForecast2024.csv'\n",
    "\n",
    "# List to collect each month's DataFrame\n",
    "dfs = []\n",
    "\n",
    "# Load and append each month's CSV\n",
    "for i in range(1, 13):\n",
    "    file_path = os.path.join(target_folder, f'historicalForecast{i:02}.csv')\n",
    "    print('Loading:', file_path)\n",
    "    df = pd.read_csv(file_path)\n",
    "    df['Month'] = i  # Optional: tag rows with the month they came from\n",
    "    dfs.append(df)\n",
    "\n",
    "# Combine all months into a single DataFrame\n",
    "combined_df = pd.concat(dfs, ignore_index=True)\n",
    "\n",
    "# Save to disk\n",
    "combined_df.to_csv(output_csv_path, index=False)\n",
    "print(f\"Saved unfiltered combined CSV to: {output_csv_path}\")"
   ]
  },
  {
   "cell_type": "markdown",
   "id": "c805729a",
   "metadata": {},
   "source": [
    "## Drop 10m forecasts from unfiltered data "
   ]
  },
  {
   "cell_type": "code",
   "execution_count": null,
   "id": "32ddda6f",
   "metadata": {},
   "outputs": [],
   "source": [
    "import pandas as pd\n",
    "\n",
    "path = 'data/unfiltered_historicalForecast2024.csv'\n",
    "\n",
    "df = pd.read_csv(path)\n",
    "\n",
    "df = df.drop(columns=[col for col in df.columns if col.startswith('u10') or col.startswith('v10')])\n",
    "\n",
    "df.to_csv(path, index=False)"
   ]
  },
  {
   "cell_type": "markdown",
   "id": "e2457d70",
   "metadata": {},
   "source": [
    "## Cache coordinates of unfiltered sensors to `column_coordinates.csv`"
   ]
  },
  {
   "cell_type": "code",
   "execution_count": 26,
   "id": "733006ae",
   "metadata": {},
   "outputs": [],
   "source": [
    "import pandas as pd\n",
    "\n",
    "df = pd.read_csv('../data/unfiltered_historicalForecast2024.csv')\n",
    "coordinates = df.columns[1:-1]\n",
    "\n",
    "parsed = []\n",
    "for col in coordinates:\n",
    "    direction, coord_str = col.split('_(')\n",
    "    lat, lon = coord_str[:-1].split(', ')  # remove closing ')' and split\n",
    "    parsed.append((direction, float(lat), float(lon)))\n",
    "    \n",
    "coords_df = pd.DataFrame(parsed, columns=['direction', 'latitude', 'longitude'])\n",
    "\n",
    "coords_df['latitude'] = coords_df['latitude'].round(10)\n",
    "coords_df['longitude'] = coords_df['longitude'].round(10)\n",
    "\n",
    "coords_df['sensor_id'] = coords_df.groupby(['latitude', 'longitude']).ngroup() + 1\n",
    "coords_df = coords_df[['sensor_id', 'direction', 'latitude', 'longitude']]\n",
    "\n",
    "coords_df = coords_df.sort_values(by='sensor_id').reset_index(drop=True)\n",
    "\n",
    "coords_df.to_csv('../data/coordinate_columns.csv', index=False)"
   ]
  },
  {
   "cell_type": "markdown",
   "id": "12ae94c4",
   "metadata": {},
   "source": [
    "## Replace column names with direction and sensor_ids"
   ]
  },
  {
   "cell_type": "code",
   "execution_count": null,
   "id": "0c3da987",
   "metadata": {},
   "outputs": [],
   "source": [
    "path = '../data/unfiltered_historicalForecast2024.csv'\n",
    "\n",
    "df = pd.read_csv(path)\n",
    "df_coords = pd.read_csv('../data/coordinate_columns.csv')\n",
    "\n",
    "\n",
    "new_columns = []\n",
    "\n",
    "for col in df.columns:\n",
    "    if '_(' in col and col.endswith(')'):\n",
    "        direction, coord_str = col.split('_(')\n",
    "        lat_str, lon_str = coord_str[:-1].split(', ')  # remove closing ')' and split\n",
    "        lat = round(float(lat_str), 10)\n",
    "        lon = round(float(lon_str), 10)\n",
    "        new_col = f\"{direction}_({lat}, {lon})\"\n",
    "        new_columns.append(new_col)\n",
    "    else:\n",
    "        new_columns.append(col)  # leave untouched if it doesn't match pattern\n",
    "\n",
    "# Apply the new column names\n",
    "df.columns = new_columns\n",
    "\n",
    "\n",
    "rename_dict = {}\n",
    "\n",
    "for _, row in df_coords.iterrows():\n",
    "    direction = row['direction']\n",
    "    lat = row['latitude']\n",
    "    lon = row['longitude']\n",
    "    \n",
    "    # Reconstruct the original column name in df\n",
    "    old_col = f\"{direction}_({lat}, {lon})\"\n",
    "    new_col = f\"{direction}_{row['sensor_id']}\"\n",
    "    \n",
    "    rename_dict[old_col] = new_col\n",
    "    \n",
    "keys = rename_dict.keys()\n",
    "\n",
    "\n",
    "df = df.rename(columns=rename_dict)\n",
    "\n",
    "display(df.head(1))\n",
    "\n",
    "non_sensor_cols = [col for col in df.columns if \"_\" not in col]\n",
    "\n",
    "# Get sensor columns (e.g., u80_1, v80_1, ...)\n",
    "sensor_cols = [col for col in df.columns if \"_\" in col]\n",
    "\n",
    "print(sensor_cols)\n",
    "\n",
    "# Parse sensor columns into (sensor_id, direction, column_name)\n",
    "parsed_cols = []\n",
    "for col in sensor_cols:\n",
    "    direction, sensor_id_str = col.split(\"_\")\n",
    "    sensor_id = int(sensor_id_str)\n",
    "    parsed_cols.append((sensor_id, direction, col))\n",
    "\n",
    "# Sort by sensor_id, then direction (u80 before v80)\n",
    "sorted_sensor_cols = [col for _, _, col in sorted(parsed_cols, key=lambda x: (x[0], x[1]))]\n",
    "\n",
    "# Reorder df columns\n",
    "df = df[non_sensor_cols + sorted_sensor_cols]\n",
    "\n",
    "print(df.columns[:60])\n",
    "display(df.head(1))\n",
    "\n",
    "df.to_csv(path,index=False)"
   ]
  },
  {
   "cell_type": "markdown",
   "id": "edb2d356",
   "metadata": {},
   "source": []
  }
 ],
 "metadata": {
  "kernelspec": {
   "display_name": "Python 3",
   "language": "python",
   "name": "python3"
  },
  "language_info": {
   "codemirror_mode": {
    "name": "ipython",
    "version": 3
   },
   "file_extension": ".py",
   "mimetype": "text/x-python",
   "name": "python",
   "nbconvert_exporter": "python",
   "pygments_lexer": "ipython3",
   "version": "3.13.1"
  }
 },
 "nbformat": 4,
 "nbformat_minor": 5
}
